{
 "cells": [
  {
   "cell_type": "code",
   "execution_count": 1,
   "metadata": {},
   "outputs": [],
   "source": [
    "import numpy as np\n",
    "import matplotlib.pyplot as plt\n",
    "import sympy as sp\n",
    "import qutip as qt"
   ]
  },
  {
   "cell_type": "markdown",
   "metadata": {},
   "source": [
    "## Example: Atom-Cavity Interaction\n",
    "\n",
    "### The Jaynes-Cummings Hamiltonian\n",
    "If we want to put an atom *inside* of a cavity, all we have to do is make a term that takes a photon from the atom and gives it to the cavity and vice versa. This looks like $a^\\dagger \\sigma_-$ and $a \\sigma_+$. Oure atom-cavity Hamiltonian is $H_{AF} = \\hbar g \\left( a^\\dagger \\sigma_- + a \\sigma_+ \\right)$.\n",
    "\n",
    "$$\n",
    "H = \\hbar \\omega_0 \\left( \\hat{n} + \\frac{1}{2} \\right) + \\hbar \\Omega \\left( a^\\dagger + a \\right) + \\hbar g \\left( a^\\dagger \\sigma_- + a \\sigma_+ \\right)\n",
    "$$"
   ]
  },
  {
   "cell_type": "markdown",
   "metadata": {},
   "source": [
    "### The quantum state"
   ]
  },
  {
   "cell_type": "code",
   "execution_count": 2,
   "metadata": {},
   "outputs": [],
   "source": [
    "# The initial state is a cavity with N=10 photons and an atom in the ground state\n",
    "N = 10\n",
    "psi0 = qt.tensor(qt.basis(2,0), qt.basis(N+1, N))"
   ]
  },
  {
   "cell_type": "markdown",
   "metadata": {},
   "source": [
    "### Destruction and lowering operators\n",
    "\n",
    "The $a$ operator destroys a photon. The $\\sigma$ operator puts an atom in a lower state. "
   ]
  },
  {
   "cell_type": "code",
   "execution_count": 16,
   "metadata": {},
   "outputs": [],
   "source": [
    "# Identity operators don't do anything\n",
    "id_atom = qt.qeye(2)  # two states\n",
    "id_cav = qt.qeye(N+1)  # N + 1 states\n",
    "\n",
    "# The photon-destruction operator: It doesn't change the atom, only the cavity\n",
    "a = qt.tensor(id_atom, qt.destroy(N+1))\n",
    "\n",
    "# The atom lowering operator: It doesn't change the cavity\n",
    "sm = qt.tensor(qt.sigmam(), id_cav)"
   ]
  },
  {
   "cell_type": "markdown",
   "metadata": {},
   "source": [
    "### Energy operators\n",
    "\n",
    "The $n$ operator counts the number of photons and is proportional the field energy. The $\\sigma_z$ operator is the dipole moment of the atom and is proportional to the atom energy. "
   ]
  },
  {
   "cell_type": "code",
   "execution_count": 18,
   "metadata": {},
   "outputs": [],
   "source": [
    "# The number operator counts the numbers of photons\n",
    "n = qt.tensor(id_atom, qt.num(N+1))\n",
    "\n",
    "# The sigma_z operator is the dipole moment of the atom\n",
    "sz = qt.tensor(qt.sigmaz(), id_cav)"
   ]
  },
  {
   "cell_type": "markdown",
   "metadata": {},
   "source": [
    "### The Hamiltonians\n",
    "\n",
    "1. The energy of the photons\n",
    "$$\n",
    "H_{\\text{field}} = \\hbar \\omega_0 \\left( \\hat{n} + \\frac{1}{2} \\right)\n",
    "$$\n",
    "\n",
    "2. We are adding and removing photons from the cavity at a rate $\\Omega$.\n",
    "$$\n",
    "H_{\\text{drive}} = \\hbar \\Omega \\left( a^\\dagger + a \\right)\n",
    "$$\n",
    "\n",
    "3. At a rate of $g$, a photon from the cavity is absorbed or emitted by the atom\n",
    "$$\n",
    "H_{\\text{coupling}} = \\hbar g \\left( a^\\dagger \\sigma + a\\sigma^\\dagger  \\right)\n",
    "$$"
   ]
  },
  {
   "cell_type": "code",
   "execution_count": 17,
   "metadata": {},
   "outputs": [],
   "source": [
    "# Photon Hamiltonian\n",
    "H_field = n + 1/2\n",
    "\n",
    "# Drive Hamiltonian\n",
    "Omega = 1\n",
    "H_drive = Omega * (a + a.dag())\n",
    "\n",
    "# Coupling Hamiltonian\n",
    "g = 1\n",
    "H_coupling = g * (a.dag() * sm + a * sm.dag())\n",
    "\n",
    "# Total Hamiltonian \n",
    "H = H_field + H_drive + H_coupling"
   ]
  },
  {
   "cell_type": "markdown",
   "metadata": {},
   "source": [
    "### The dissipation\n",
    "\n",
    "We account for the fact that the system decays into the environment, we can include decay operators. In our case, the system leaks photons out of the cavity at a rate $\\gamma$, so the collective operator is $\\sqrt{\\gamma} a$. "
   ]
  },
  {
   "cell_type": "code",
   "execution_count": 19,
   "metadata": {},
   "outputs": [],
   "source": [
    "gamma = 0.25\n",
    "c_ops = [np.sqrt(gamma) * a]"
   ]
  },
  {
   "cell_type": "markdown",
   "metadata": {},
   "source": [
    "### Initial state\n",
    "\n",
    "We can initialize our state with the atom and cavity in the ground states. "
   ]
  },
  {
   "cell_type": "code",
   "execution_count": 20,
   "metadata": {},
   "outputs": [],
   "source": [
    "psi0 = qt.tensor(qt.basis(2,1), qt.basis(N+1, 0))"
   ]
  },
  {
   "cell_type": "markdown",
   "metadata": {},
   "source": [
    "### Expectation values\n",
    "\n",
    "Finally, we need to know what values of the system we want to monitor. Let's keep track of the number of photons $n$ and the dipole moment of the atom $\\sigma_z$. "
   ]
  },
  {
   "cell_type": "code",
   "execution_count": 23,
   "metadata": {},
   "outputs": [],
   "source": [
    "exp_vals = [n, sm.dag()* sm]"
   ]
  },
  {
   "cell_type": "markdown",
   "metadata": {},
   "source": [
    "### Simulation\n",
    "\n",
    "When the dust settles, the atom is halfway excited and the cavity has two photons in it. Neat!"
   ]
  },
  {
   "cell_type": "code",
   "execution_count": 27,
   "metadata": {},
   "outputs": [
    {
     "name": "stdout",
     "output_type": "stream",
     "text": [
      "10.0%. Run time:   8.68s. Est. time left: 00:00:01:18\n",
      "20.0%. Run time:   9.06s. Est. time left: 00:00:00:36\n",
      "30.0%. Run time:   9.43s. Est. time left: 00:00:00:22\n",
      "40.0%. Run time:   9.84s. Est. time left: 00:00:00:14\n",
      "50.0%. Run time:  10.15s. Est. time left: 00:00:00:10\n",
      "60.0%. Run time:  10.49s. Est. time left: 00:00:00:06\n",
      "70.0%. Run time:  10.85s. Est. time left: 00:00:00:04\n",
      "80.0%. Run time:  11.20s. Est. time left: 00:00:00:02\n",
      "90.0%. Run time:  11.52s. Est. time left: 00:00:00:01\n",
      "100.0%. Run time:  11.81s. Est. time left: 00:00:00:00\n",
      "Total run time:  11.93s\n"
     ]
    },
    {
     "data": {
      "text/plain": [
       "<matplotlib.legend.Legend at 0x230c748ead0>"
      ]
     },
     "execution_count": 27,
     "metadata": {},
     "output_type": "execute_result"
    },
    {
     "data": {
      "image/png": "[encoded data removed]",
      "text/plain": [
       "<Figure size 640x480 with 1 Axes>"
      ]
     },
     "metadata": {},
     "output_type": "display_data"
    }
   ],
   "source": [
    "# Define the time vector\n",
    "t = np.linspace(0, 20, 1000)\n",
    "\n",
    "# Solve with monte carlo\n",
    "res = qt.mcsolve(H, psi0, t, c_ops, exp_vals, ntraj=100)\n",
    "\n",
    "# Plot the results\n",
    "fig, ax = plt.subplots()\n",
    "ax.plot(t, res.expect[0], label='Photon number')\n",
    "ax.plot(t, res.expect[1], label='Excitation probability')\n",
    "ax.set_xlabel('Time')\n",
    "ax.set_ylabel('Expectation value')\n",
    "ax.set_title('Photon number and excitation probability')\n",
    "ax.legend()\n"
   ]
  },
  {
   "cell_type": "code",
   "execution_count": null,
   "metadata": {},
   "outputs": [],
   "source": []
  }
 ],
 "metadata": {
  "kernelspec": {
   "display_name": "phys",
   "language": "python",
   "name": "python3"
  },
  "language_info": {
   "codemirror_mode": {
    "name": "ipython",
    "version": 3
   },
   "file_extension": ".py",
   "mimetype": "text/x-python",
   "name": "python",
   "nbconvert_exporter": "python",
   "pygments_lexer": "ipython3",
   "version": "3.11.5"
  },
  "orig_nbformat": 4
 },
 "nbformat": 4,
 "nbformat_minor": 2
}
