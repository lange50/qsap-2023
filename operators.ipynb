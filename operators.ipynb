{
 "cells": [
  {
   "cell_type": "code",
   "execution_count": 1,
   "metadata": {},
   "outputs": [],
   "source": [
    "import numpy as np\n",
    "import matplotlib.pyplot as plt\n",
    "import sympy as sp\n",
    "import qutip as qt"
   ]
  },
  {
   "cell_type": "markdown",
   "metadata": {},
   "source": [
    "## Quantum mechanical operators"
   ]
  },
  {
   "cell_type": "markdown",
   "metadata": {},
   "source": [
    "### The two-level system\n",
    "\n",
    "Let $\\left| 1 \\right>$ represent the atom in the excited state, and $\\left| 0 \\right>$ represent the atom in the ground state. The *lowering operator* $\\sigma$ takes the excited state to the ground state. \n",
    "\n",
    "$$\n",
    "\\sigma \\left| 1 \\right> = \\left| 0 \\right>\n",
    "$$\n",
    "\n",
    "The *raising operator* $\\sigma^\\dagger$ does the opposite. \n",
    "\n",
    "$$\n",
    "\\sigma^\\dagger \\left| 0 \\right> = \\left| 1 \\right>\n",
    "$$\n",
    "\n",
    "If you try to lower the ground state or raise the excited state you get nothing. \n",
    "\n",
    "$$\n",
    "\\begin{aligned}\n",
    "\\sigma \\left| 0 \\right> &= 0  \\\\\n",
    "\\sigma^\\dagger \\left| 1 \\right> &= 0\n",
    "\\end{aligned}\n",
    "$$\n",
    "\n",
    "These operators and quantum states are best represented as matrices and vectore. \n",
    "\n",
    "$$\n",
    "\\begin{aligned}\n",
    "\\left|1\\right\\rangle &=\n",
    "\\left(\\begin{array}{c}\n",
    "1\\\\\n",
    "0\n",
    "\\end{array}\\right) \\\\\n",
    "\n",
    "\\left|0\\right\\rangle &=\\left(\\begin{array}{c}\n",
    "0\\\\\n",
    "1\n",
    "\\end{array}\\right) \\\\\n",
    "\n",
    "\\sigma\t&=\\left(\\begin{array}{cc}\n",
    "0 & 0\\\\\n",
    "1 & 0\n",
    "\\end{array}\\right) \\\\\n",
    "\\sigma^{\\dagger}\t&=\\left(\\begin{array}{cc}\n",
    "0 & 1\\\\\n",
    "0 & 0\n",
    "\\end{array}\\right)\n",
    "\\end{aligned}\n",
    "$$\n",
    "\n",
    "These can easily be implemented using QuTiP in Python!\n"
   ]
  },
  {
   "cell_type": "code",
   "execution_count": 7,
   "metadata": {},
   "outputs": [
    {
     "data": {
      "text/latex": [
       "Quantum object: dims = [[2], [1]], shape = (2, 1), type = ket $ \\\\ \\left(\\begin{matrix}1.0\\\\0.0\\\\\\end{matrix}\\right)$"
      ],
      "text/plain": [
       "Quantum object: dims = [[2], [1]], shape = (2, 1), type = ket\n",
       "Qobj data =\n",
       "[[1.]\n",
       " [0.]]"
      ]
     },
     "execution_count": 7,
     "metadata": {},
     "output_type": "execute_result"
    }
   ],
   "source": [
    "# Excited state\n",
    "# qt.tensor makes a quantum object\n",
    "# qt.basis(N, M) makes a state with N-levels and puts you in the Mth level\n",
    "# The way QuTiP is set up, M=0 is the excited state\n",
    "psi1 = qt.tensor(qt.basis(2,0))\n",
    "psi1"
   ]
  },
  {
   "cell_type": "code",
   "execution_count": 6,
   "metadata": {},
   "outputs": [
    {
     "data": {
      "text/latex": [
       "Quantum object: dims = [[2], [2]], shape = (2, 2), type = oper, isherm = False $ \\\\ \\left(\\begin{matrix}0.0 & 0.0\\\\1.0 & 0.0\\\\\\end{matrix}\\right)$"
      ],
      "text/plain": [
       "Quantum object: dims = [[2], [2]], shape = (2, 2), type = oper, isherm = False\n",
       "Qobj data =\n",
       "[[0. 0.]\n",
       " [1. 0.]]"
      ]
     },
     "execution_count": 6,
     "metadata": {},
     "output_type": "execute_result"
    }
   ],
   "source": [
    "# The lowering operator works as expected\n",
    "# Lowering operator\n",
    "sm = qt.sigmam()\n",
    "sm"
   ]
  },
  {
   "cell_type": "code",
   "execution_count": 8,
   "metadata": {},
   "outputs": [
    {
     "data": {
      "text/latex": [
       "Quantum object: dims = [[2], [1]], shape = (2, 1), type = ket $ \\\\ \\left(\\begin{matrix}0.0\\\\1.0\\\\\\end{matrix}\\right)$"
      ],
      "text/plain": [
       "Quantum object: dims = [[2], [1]], shape = (2, 1), type = ket\n",
       "Qobj data =\n",
       "[[0.]\n",
       " [1.]]"
      ]
     },
     "execution_count": 8,
     "metadata": {},
     "output_type": "execute_result"
    }
   ],
   "source": [
    "# Unsurprisingly, when you multiply them together, you get the ground state\n",
    "sm * psi1"
   ]
  },
  {
   "cell_type": "markdown",
   "metadata": {},
   "source": [
    "These can be generalized to very large states. For example, and atom with 4 levels in the 2nd level is as follows. "
   ]
  },
  {
   "cell_type": "code",
   "execution_count": 12,
   "metadata": {},
   "outputs": [
    {
     "data": {
      "text/latex": [
       "Quantum object: dims = [[4], [1]], shape = (4, 1), type = ket $ \\\\ \\left(\\begin{matrix}0.0\\\\0.0\\\\1.0\\\\0.0\\\\\\end{matrix}\\right)$"
      ],
      "text/plain": [
       "Quantum object: dims = [[4], [1]], shape = (4, 1), type = ket\n",
       "Qobj data =\n",
       "[[0.]\n",
       " [0.]\n",
       " [1.]\n",
       " [0.]]"
      ]
     },
     "execution_count": 12,
     "metadata": {},
     "output_type": "execute_result"
    }
   ],
   "source": [
    "psi = qt.tensor(qt.basis(4, 4 - 2))\n",
    "psi"
   ]
  },
  {
   "cell_type": "markdown",
   "metadata": {},
   "source": [
    "### The Fock state\n",
    "\n",
    "If you want more than just two states it's just as easy! A state with $n$ photons can be represented as $\\left| n \\right>$. The *destruction operator* $a$ takes you from $n$-many photons to $n-1$. In the case of an atom, you're just moving the electron from one state to another. But in the case of a Fock state, the operators create and destroy photons, so you get another factor $c_{n}$ out front. \n",
    "\n",
    "$$\n",
    "\\begin{aligned}\n",
    "a \\left| n \\right> = c_{n-1} \\left| n-1 \\right> \\\\\n",
    "a^\\dagger \\left| n \\right> = c_{n+1} \\left| n+1 \\right> \\\\\n",
    "\\end{aligned}\n",
    "$$"
   ]
  },
  {
   "cell_type": "markdown",
   "metadata": {},
   "source": [
    "The following example is $\\left| 4 \\right>$. "
   ]
  },
  {
   "cell_type": "code",
   "execution_count": 14,
   "metadata": {},
   "outputs": [],
   "source": [
    "# We want a quantum state that can hold up to 10 photons.\n",
    "# Because we also have the vacuum state, with no photons, we need 11 states total.\n",
    "# In the case of photons, the states count up instead of down. I don't know why. \n",
    "N = 10  # Max number of photons\n",
    "psi = qt.tensor(qt.basis(N, 4))"
   ]
  },
  {
   "cell_type": "code",
   "execution_count": null,
   "metadata": {},
   "outputs": [],
   "source": [
    "# The destruction operator gets a special function\n",
    "# This function destroys one photon\n",
    "a = qt.destroy(N)"
   ]
  }
 ],
 "metadata": {
  "kernelspec": {
   "display_name": "phys",
   "language": "python",
   "name": "python3"
  },
  "language_info": {
   "codemirror_mode": {
    "name": "ipython",
    "version": 3
   },
   "file_extension": ".py",
   "mimetype": "text/x-python",
   "name": "python",
   "nbconvert_exporter": "python",
   "pygments_lexer": "ipython3",
   "version": "3.11.5"
  },
  "orig_nbformat": 4
 },
 "nbformat": 4,
 "nbformat_minor": 2
}
